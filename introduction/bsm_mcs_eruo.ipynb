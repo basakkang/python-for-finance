{
 "cells": [
  {
   "cell_type": "code",
   "execution_count": 29,
   "metadata": {},
   "outputs": [],
   "source": [
    "# 블랙-숄즈-머튼 모형을 사용한 유러피안 콜 옵션의 몬테카를로 방식 가격 계산\n",
    "# BSM 모형에서 만기 주가지수\n",
    "# ST = S0 * exp((r - 1/2 * sigma ** 2)T + sigma * sqrt(T)z)\n",
    "# z : 포준정규분포\n",
    "\n",
    "# I개 난수 생성\n",
    "# I개 ST(i) 값 계산\n",
    "# ST(i)에 대해 수식 h(i) = max(ST(i) - K, 0)를 이용하여 옵션 가격 I개 계산\n",
    "# 몬테카를로 추정식 C0 = e ** (-rT) * 1/I * sum(hT(i))"
   ]
  },
  {
   "cell_type": "code",
   "execution_count": 30,
   "metadata": {},
   "outputs": [],
   "source": [
    "S0 = 100\n",
    "K = 105\n",
    "T = 1.0\n",
    "r = 0.05\n",
    "sigma = 0.2"
   ]
  },
  {
   "cell_type": "code",
   "execution_count": 31,
   "metadata": {},
   "outputs": [
    {
     "name": "stdout",
     "output_type": "stream",
     "text": [
      "<class 'numpy.ndarray'>\n"
     ]
    }
   ],
   "source": [
    "from numpy import *\n",
    "I = 100000\n",
    "z = random.standard_normal(I)\n",
    "# 벡터화\n",
    "print(type(z))\n",
    "ST = S0 * exp((r - 0.5 * sigma ** 2) * T + sigma * sqrt(T) * z)\n",
    "hT = maximum(ST - K, 0)\n",
    "C0 = exp(-r * T) * sum(hT) / I"
   ]
  },
  {
   "cell_type": "code",
   "execution_count": 32,
   "metadata": {},
   "outputs": [
    {
     "name": "stdout",
     "output_type": "stream",
     "text": [
      "Value of the European Call Option 8.066\n"
     ]
    }
   ],
   "source": [
    "print(f'Value of the European Call Option {C0:.3f}')"
   ]
  },
  {
   "cell_type": "code",
   "execution_count": null,
   "metadata": {},
   "outputs": [],
   "source": []
  }
 ],
 "metadata": {
  "kernelspec": {
   "display_name": "Python 3",
   "language": "python",
   "name": "python3"
  },
  "language_info": {
   "codemirror_mode": {
    "name": "ipython",
    "version": 3
   },
   "file_extension": ".py",
   "mimetype": "text/x-python",
   "name": "python",
   "nbconvert_exporter": "python",
   "pygments_lexer": "ipython3",
   "version": "3.8.3"
  }
 },
 "nbformat": 4,
 "nbformat_minor": 4
}
